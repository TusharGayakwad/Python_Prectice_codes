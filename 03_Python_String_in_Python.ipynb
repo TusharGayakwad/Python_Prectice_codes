{
 "cells": [
  {
   "cell_type": "markdown",
   "id": "4cd2cb19-64c9-438f-b245-17e2db6f6b9e",
   "metadata": {},
   "source": [
    "#How to use String in python "
   ]
  },
  {
   "cell_type": "code",
   "execution_count": null,
   "id": "650708da-b5c4-416b-bb1a-66f2c0866230",
   "metadata": {},
   "outputs": [],
   "source": [
    "# Single Quote in string \n",
    "print('Hello Tushar')\n",
    "\n",
    "#Double Quote in string\n",
    "print(\"Hello Tushar\")\n",
    "\n",
    "#Multiple string\n",
    "a=\"\"\"Pytho is a booming in the market,python is smart language ,python is used in AI,ML,DS\"\"\"\n",
    "\n",
    "print(a)"
   ]
  },
  {
   "cell_type": "code",
   "execution_count": null,
   "id": "ce228523-cb38-44ef-8eba-651e3c92450a",
   "metadata": {},
   "outputs": [],
   "source": [
    "# Update a String\n",
    "a =\"Hello String\"\n",
    "print(a)\n",
    "print(\"Update string: \",a[:6]+\"Python\")"
   ]
  },
  {
   "cell_type": "code",
   "execution_count": 23,
   "id": "e438900f-2c72-44e4-a019-293e8325316c",
   "metadata": {},
   "outputs": [
    {
     "name": "stdout",
     "output_type": "stream",
     "text": [
      "Index 1: e\n",
      "Index b/w 1 to 6: ello \n",
      "Index Till 6: Hello W\n",
      "last value: d\n"
     ]
    }
   ],
   "source": [
    "# String Slicing\n",
    "\n",
    "a=\"Hello World\"\n",
    "\n",
    "#Access the value of index 1\n",
    "print(\"Index 1:\",a[1])\n",
    "\n",
    "#Access the value Between index 1 to 6\n",
    "print(\"Index b/w 1 to 6:\",a[1:6])\n",
    "\n",
    "#Access the value till index 6\n",
    "print(\"Index Till 6:\",a[:7])\n",
    "\n",
    "#Access the last value from string \n",
    "print(\"last value:\",a[-1])"
   ]
  },
  {
   "cell_type": "code",
   "execution_count": 24,
   "id": "b2f78e6f-b457-4ac9-bd89-176efc548af5",
   "metadata": {},
   "outputs": [
    {
     "name": "stdout",
     "output_type": "stream",
     "text": [
      "hello to tushar--> Hello to tushar\n",
      "Hello to Tushar--> hello to tushar\n",
      "Hello to Tushar-->   Hello to Tushar   \n",
      "I love python, python is a smart language--> 2\n"
     ]
    }
   ],
   "source": [
    "# String in-Built Methods\n",
    "\n",
    "#Capitalize(): This method Converts the first Charcter in string \n",
    "a=\"hello to tushar\"\n",
    "x=a.capitalize()\n",
    "print(f\"{a}-->\",x)\n",
    "\n",
    "#CaseFold(): This method convert all capital letter into small \n",
    "b=\"Hello to Tushar\"\n",
    "y=b.casefold()\n",
    "print(f\"{b}-->\",y)\n",
    "\n",
    "#Center(): This is use to bring your into center \n",
    "c=\"Hello to Tushar\"\n",
    "z=c.center(20)\n",
    "print(f\"{c}-->\",z)\n",
    "\n",
    "#Count(): This method is used to count the repeated word in string\n",
    "d=\"I love python, python is a smart language\"\n",
    "a=d.count(\"python\")\n",
    "print(f\"{d}-->\",a)\n",
    "\n",
    "\n"
   ]
  },
  {
   "cell_type": "code",
   "execution_count": null,
   "id": "987dd65f-1cab-4459-9f27-9703370d89b2",
   "metadata": {},
   "outputs": [],
   "source": []
  }
 ],
 "metadata": {
  "kernelspec": {
   "display_name": "Python 3 (ipykernel)",
   "language": "python",
   "name": "python3"
  },
  "language_info": {
   "codemirror_mode": {
    "name": "ipython",
    "version": 3
   },
   "file_extension": ".py",
   "mimetype": "text/x-python",
   "name": "python",
   "nbconvert_exporter": "python",
   "pygments_lexer": "ipython3",
   "version": "3.9.12"
  }
 },
 "nbformat": 4,
 "nbformat_minor": 5
}
