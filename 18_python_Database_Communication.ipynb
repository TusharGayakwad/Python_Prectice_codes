{
 "cells": [
  {
   "cell_type": "code",
   "execution_count": 12,
   "id": "07724534-85aa-4796-bd9a-1ec7e9825b81",
   "metadata": {},
   "outputs": [
    {
     "name": "stdout",
     "output_type": "stream",
     "text": [
      "BYE\n"
     ]
    }
   ],
   "source": [
    "#Importing the API Module\n",
    "import pymysql"
   ]
  },
  {
   "cell_type": "code",
   "execution_count": 11,
   "id": "1b8f8c01-71f8-4850-a4f9-4ab5a9544630",
   "metadata": {},
   "outputs": [],
   "source": [
    "#Creating connection with Database\n",
    "\n",
    "def createconn():\n",
    "    return pymysql.connect(\n",
    "        host=\"local_host\",\n",
    "        database=\"Prectice database\",\n",
    "        user=\"root\",\n",
    "        password=\"\",\n",
    "        port=3306)"
   ]
  },
  {
   "cell_type": "code",
   "execution_count": null,
   "id": "458fc8c7-c601-40dc-9776-50cc9a0d81e7",
   "metadata": {},
   "outputs": [],
   "source": []
  }
 ],
 "metadata": {
  "kernelspec": {
   "display_name": "Python 3 (ipykernel)",
   "language": "python",
   "name": "python3"
  },
  "language_info": {
   "codemirror_mode": {
    "name": "ipython",
    "version": 3
   },
   "file_extension": ".py",
   "mimetype": "text/x-python",
   "name": "python",
   "nbconvert_exporter": "python",
   "pygments_lexer": "ipython3",
   "version": "3.9.12"
  }
 },
 "nbformat": 4,
 "nbformat_minor": 5
}
