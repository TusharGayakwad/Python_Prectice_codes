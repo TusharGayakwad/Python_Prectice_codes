{
 "cells": [
  {
   "cell_type": "code",
   "execution_count": 3,
   "id": "145e3920-9583-4623-8083-2880a0ae22a1",
   "metadata": {},
   "outputs": [
    {
     "name": "stdout",
     "output_type": "stream",
     "text": [
      "SBI Intrest is 5%\n",
      "SBI Intrest is 2%\n"
     ]
    }
   ],
   "source": [
    "#Python Abstract\n",
    "#Bank Example \n",
    "\n",
    "class RBI: #Abstract class \n",
    "    def intrest(Self):\n",
    "        Pass\n",
    "\n",
    "class SBI(RBI):  \n",
    "    def intrest(Self):\n",
    "        print(\"SBI Intrest is 5%\")\n",
    "\n",
    "class HDFC(RBI): # \n",
    "    def intrest(Self):\n",
    "        print(\"SBI Intrest is 2%\")\n",
    "        \n",
    "#Creating an object of class SBI\n",
    "S=SBI()\n",
    "        \n",
    "#Creating an object of class HDFC\n",
    "H=HDFC()\n",
    "\n",
    "#Calling \n",
    "S.intrest()#SBI Interest Method Called\n",
    "H.intrest()#HDFC Interest Method Called\n",
    "\n"
   ]
  },
  {
   "cell_type": "code",
   "execution_count": 4,
   "id": "7ddb5dd4-ffb6-498f-87af-bb0769da7c62",
   "metadata": {},
   "outputs": [
    {
     "name": "stdout",
     "output_type": "stream",
     "text": [
      "I Can Bark\n",
      "I Can Hisss\n"
     ]
    }
   ],
   "source": [
    "#Python Abstract\n",
    "#Animal Example \n",
    "\n",
    "class Animal: #Abstract class \n",
    "    def Move(Self):\n",
    "        Pass\n",
    "\n",
    "class Dog(Animal):  \n",
    "    def Move(Self):\n",
    "        print(\"I Can Bark\")\n",
    "\n",
    "class Snake(Animal): \n",
    "    def Move(Self):\n",
    "        print(\"I Can Hisss\")\n",
    "        \n",
    "#Creating an object of class SBI\n",
    "D=Dog()\n",
    "        \n",
    "#Creating an object of class HDFC\n",
    "S=Snake()\n",
    "\n",
    "#Calling \n",
    "D.Move()#SBI Interest Method Called\n",
    "S.Move()#HDFC Interest Method Called\n",
    "\n"
   ]
  },
  {
   "cell_type": "code",
   "execution_count": null,
   "id": "29463084-e534-48f1-b91a-955b34f06067",
   "metadata": {},
   "outputs": [],
   "source": []
  }
 ],
 "metadata": {
  "kernelspec": {
   "display_name": "Python 3 (ipykernel)",
   "language": "python",
   "name": "python3"
  },
  "language_info": {
   "codemirror_mode": {
    "name": "ipython",
    "version": 3
   },
   "file_extension": ".py",
   "mimetype": "text/x-python",
   "name": "python",
   "nbconvert_exporter": "python",
   "pygments_lexer": "ipython3",
   "version": "3.9.12"
  }
 },
 "nbformat": 4,
 "nbformat_minor": 5
}
