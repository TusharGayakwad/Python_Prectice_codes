{
 "cells": [
  {
   "cell_type": "code",
   "execution_count": 2,
   "id": "0eee920c-5538-4ca5-813b-25bf9644491a",
   "metadata": {},
   "outputs": [
    {
     "name": "stdout",
     "output_type": "stream",
     "text": [
      "Dictionary:  {1: 'Apply', 2: 'Mango', 3: 'Orange', 'A': 'b'} Data type  <class 'dict'>\n"
     ]
    }
   ],
   "source": [
    "# Creating a dictionary\n",
    "\n",
    "d1= {1:\"Apply\",2:\"Mango\",3:\"Orange\",\"A\":\"b\"}\n",
    "print(\"Dictionary: \",d1,\"Data type \",type(d1))"
   ]
  },
  {
   "cell_type": "code",
   "execution_count": 3,
   "id": "2a7c87ae-27b3-413d-b582-17a0dcf8b154",
   "metadata": {},
   "outputs": [
    {
     "name": "stdout",
     "output_type": "stream",
     "text": [
      "Dictionary:  {1: 'Apply', 2: 'Mango', 3: 'Orange', 'A': ['Banna', 'Mango', 'Apply']} Data type  <class 'dict'>\n"
     ]
    }
   ],
   "source": [
    "#storing list into dict\n",
    "\n",
    "d1= {1:\"Apply\",2:\"Mango\",3:\"Orange\",\"A\":[\"Banna\",\"Mango\",\"Apply\"]}\n",
    "print(\"Dictionary: \",d1,\"Data type \",type(d1))"
   ]
  },
  {
   "cell_type": "code",
   "execution_count": 10,
   "id": "2f2b0807-6ae3-447e-a763-2ccd0dcdadd5",
   "metadata": {},
   "outputs": [
    {
     "name": "stdout",
     "output_type": "stream",
     "text": [
      "Dictionary:  {1: 'Apply', 2: 'Mango', 3: 'Orange', 'A': 'b'}\n",
      "fatch the value: Apply\n",
      "fatch the valu using get() method: Mango\n",
      "fatch the valu using item() method: dict_items([(1, 'Apply'), (2, 'Mango'), (3, 'Orange'), ('A', 'b')])\n"
     ]
    }
   ],
   "source": [
    "#Access the value of dictionary\n",
    "\n",
    "d1= {1:\"Apply\",2:\"Mango\",3:\"Orange\",\"A\":\"b\"}\n",
    "print(\"Dictionary: \",d1,)\n",
    "\n",
    "#Access the value using key\n",
    "print(\"fatch the value:\",d1[1])\n",
    "\n",
    "#Access the value using the get()\n",
    "x=d1.get(2)\n",
    "print(\"fatch the valu using get() method:\", x)\n",
    "\n",
    "#Access the dict using the item()\n",
    "x=d1.items()\n",
    "print(\"fatch the valu using item() method:\", x)"
   ]
  },
  {
   "cell_type": "code",
   "execution_count": 16,
   "id": "7e9c5868-07db-4cdb-82cc-7f924d6dd9fc",
   "metadata": {},
   "outputs": [
    {
     "name": "stdout",
     "output_type": "stream",
     "text": [
      "Curret Dictionary:  {1: 'Apply', 2: 'Mango', 3: 'Orange', 'A': 'b'}\n",
      "Update Dictionary:  {1: 'Apply', 2: 'Banna', 3: 'Orange', 'A': 'b'}\n"
     ]
    }
   ],
   "source": [
    "# Change the value \n",
    "\n",
    "d1= {1:\"Apply\",2:\"Mango\",3:\"Orange\",\"A\":\"b\"}\n",
    "print(\"Curret Dictionary: \",d1)\n",
    "\n",
    "#change the value \n",
    "d1[2]=\"Banna\"\n",
    "print(\"Update Dictionary: \",d1)\n"
   ]
  },
  {
   "cell_type": "code",
   "execution_count": 28,
   "id": "02ff99a6-e1e0-4393-8168-05532002d17e",
   "metadata": {},
   "outputs": [
    {
     "name": "stdout",
     "output_type": "stream",
     "text": [
      "Curret Dictionary:  {1: 'Apply', 2: 'Mango', 3: 'Orange', 'A': 'b'}\n",
      "Update Dictionary:  {1: 'Apply', 3: 'Orange', 'A': 'b'}\n",
      "Update Dictionary:  {1: 'Apply', 3: 'Orange'}\n",
      "Update Dictionary:  {}\n"
     ]
    }
   ],
   "source": [
    "#remove Values from dict\n",
    "\n",
    "d1= {1:\"Apply\",2:\"Mango\",3:\"Orange\",\"A\":\"b\"}\n",
    "print(\"Curret Dictionary: \",d1)\n",
    "\n",
    "#using pop() method\n",
    "d1.pop(2)\n",
    "print(\"Update Dictionary: \",d1)\n",
    "\n",
    "#using popitem() method\n",
    "d1.popitem()\n",
    "print(\"Update Dictionary: \",d1)\n",
    "\n",
    "#using clear() method\n",
    "d1.clear()\n",
    "print(\"Update Dictionary: \",d1)\n"
   ]
  },
  {
   "cell_type": "code",
   "execution_count": 31,
   "id": "b696cabe-49c8-4d40-a906-cfa76843e41d",
   "metadata": {},
   "outputs": [
    {
     "name": "stdout",
     "output_type": "stream",
     "text": [
      "Curret Dictionary:  {1: 'Apply', 2: 'Mango', 3: 'Orange', 'A': 'b'}\n",
      "keys dict_keys([1, 2, 3, 'A'])\n",
      "keys dict_values(['Apply', 'Mango', 'Orange', 'b'])\n"
     ]
    }
   ],
   "source": [
    "#Access the only keys from dictionary.\n",
    "\n",
    "d1= {1:\"Apply\",2:\"Mango\",3:\"Orange\",\"A\":\"b\"}\n",
    "print(\"Curret Dictionary: \",d1)\n",
    "\n",
    "#access the keys\n",
    "k=d1.keys()\n",
    "print(\"keys\",k)\n",
    "\n",
    "#access the values\n",
    "v=d1.values()\n",
    "print(\"keys\",v)"
   ]
  }
 ],
 "metadata": {
  "kernelspec": {
   "display_name": "Python 3 (ipykernel)",
   "language": "python",
   "name": "python3"
  },
  "language_info": {
   "codemirror_mode": {
    "name": "ipython",
    "version": 3
   },
   "file_extension": ".py",
   "mimetype": "text/x-python",
   "name": "python",
   "nbconvert_exporter": "python",
   "pygments_lexer": "ipython3",
   "version": "3.9.12"
  }
 },
 "nbformat": 4,
 "nbformat_minor": 5
}
