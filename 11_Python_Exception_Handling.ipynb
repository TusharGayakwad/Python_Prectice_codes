{
 "cells": [
  {
   "cell_type": "code",
   "execution_count": null,
   "id": "dfea602b-23fc-469c-9c84-3698ffc6c17d",
   "metadata": {},
   "outputs": [],
   "source": [
    "#Exception Create \n",
    "\n",
    "a=int(input(\"Enter the Value of A:\"))\n",
    "print(\"A:\",a)#We give into value it's work perfectly\n",
    "\n",
    "#we got a wrong input by the user (like-str)\n",
    "print(\"Bye\")"
   ]
  },
  {
   "cell_type": "code",
   "execution_count": 6,
   "id": "1702a958-9001-4e90-9c86-4f597ec400e6",
   "metadata": {},
   "outputs": [
    {
     "name": "stdin",
     "output_type": "stream",
     "text": [
      "Enter the Value of A: 10\n",
      "Enter the Value of B: 0\n"
     ]
    },
    {
     "name": "stdout",
     "output_type": "stream",
     "text": [
      "Exeption Cought: division by zero\n",
      "bye\n"
     ]
    }
   ],
   "source": [
    "#Solution Exception Occur & Headling\n",
    "\n",
    "try:\n",
    "    a=int(input(\"Enter the Value of A:\"))\n",
    "    b=int(input(\"Enter the Value of B:\"))\n",
    "    c=a/b\n",
    "    print(\"Answer:\",c)\n",
    "    print(\"Bye\")\n",
    "\n",
    "except Exception as e:\n",
    "    #this block will run when exception occur\n",
    "    print(\"Exeption Cought:\",e)\n",
    "print(\"bye\")"
   ]
  },
  {
   "cell_type": "code",
   "execution_count": 17,
   "id": "0725f0e6-2449-41fe-b000-e56b1992e4fe",
   "metadata": {},
   "outputs": [
    {
     "name": "stdout",
     "output_type": "stream",
     "text": [
      "54\n"
     ]
    }
   ],
   "source": [
    "#Many Exception \n",
    "try:\n",
    "    x=54.64\n",
    "    #We have noy define varible  x\n",
    "    print(int(x))\n",
    "except NameError:\n",
    "    Print(\"variable is not define.\")\n",
    "except:\n",
    "    priny(\"Exception Cought\")"
   ]
  },
  {
   "cell_type": "code",
   "execution_count": 19,
   "id": "b820cc25-8397-47c8-bb9e-4b5eaf216c12",
   "metadata": {},
   "outputs": [
    {
     "name": "stdout",
     "output_type": "stream",
     "text": [
      "Hello\n",
      "Nothing went wrong\n"
     ]
    }
   ],
   "source": [
    "#How to use Else with except \n",
    "try:\n",
    "    print(\"Hello\")\n",
    "except:\n",
    "    print(\"Something went Wrong\")\n",
    "else:\n",
    "    print(\"Nothing went wrong\")"
   ]
  },
  {
   "cell_type": "code",
   "execution_count": 20,
   "id": "9ce29263-dd44-493b-9739-4fa3b2394383",
   "metadata": {},
   "outputs": [
    {
     "name": "stdout",
     "output_type": "stream",
     "text": [
      "Hello\n",
      "Finally Block\n"
     ]
    }
   ],
   "source": [
    "#Finally Block \n",
    "#The block which run compulory if error occurs or not \n",
    "\n",
    "try:\n",
    "    print(\"Hello\")\n",
    "except:\n",
    "    print(\"Somthing went wrong\")\n",
    "finally:\n",
    "    print(\"Finally Block\")"
   ]
  },
  {
   "cell_type": "code",
   "execution_count": 24,
   "id": "378db285-31be-4301-ad05-21b19ec20455",
   "metadata": {},
   "outputs": [
    {
     "ename": "MyException",
     "evalue": "Some thing went wrong",
     "output_type": "error",
     "traceback": [
      "\u001b[1;31m---------------------------------------------------------------------------\u001b[0m",
      "\u001b[1;31mMyException\u001b[0m                               Traceback (most recent call last)",
      "Input \u001b[1;32mIn [24]\u001b[0m, in \u001b[0;36m<cell line: 7>\u001b[1;34m()\u001b[0m\n\u001b[0;32m      6\u001b[0m c\u001b[38;5;241m=\u001b[39m\u001b[38;5;241m25\u001b[39m\n\u001b[0;32m      7\u001b[0m \u001b[38;5;28;01mif\u001b[39;00m c\u001b[38;5;241m>\u001b[39m\u001b[38;5;241m5\u001b[39m:\n\u001b[1;32m----> 8\u001b[0m     \u001b[38;5;28;01mraise\u001b[39;00m MyException(\u001b[38;5;124m\"\u001b[39m\u001b[38;5;124mSome thing went wrong\u001b[39m\u001b[38;5;124m\"\u001b[39m)\n",
      "\u001b[1;31mMyException\u001b[0m: Some thing went wrong"
     ]
    }
   ],
   "source": [
    "#User defind exception \n",
    "\n",
    "class MyException(Exception):\n",
    "    pass\n",
    "\n",
    "c=25\n",
    "if c>5:\n",
    "    raise MyException(\"Some thing went wrong\")"
   ]
  },
  {
   "cell_type": "code",
   "execution_count": null,
   "id": "2dc4a223-f39b-4e60-9919-c0433d343ae2",
   "metadata": {},
   "outputs": [],
   "source": []
  }
 ],
 "metadata": {
  "kernelspec": {
   "display_name": "Python 3 (ipykernel)",
   "language": "python",
   "name": "python3"
  },
  "language_info": {
   "codemirror_mode": {
    "name": "ipython",
    "version": 3
   },
   "file_extension": ".py",
   "mimetype": "text/x-python",
   "name": "python",
   "nbconvert_exporter": "python",
   "pygments_lexer": "ipython3",
   "version": "3.9.12"
  }
 },
 "nbformat": 4,
 "nbformat_minor": 5
}
