{
 "cells": [
  {
   "cell_type": "code",
   "execution_count": 2,
   "id": "567f09d8-5ad5-4e74-8612-f0eb6d716f4f",
   "metadata": {},
   "outputs": [
    {
     "name": "stdout",
     "output_type": "stream",
     "text": [
      "File created\n"
     ]
    }
   ],
   "source": [
    "#Permission:-\n",
    "#\"r\"-Read a file content\n",
    "#\"a\"-Append a value in file\n",
    "#\"w\"-Write a value in file \n",
    "\n",
    "#File Creating \n",
    "#Method-1\n",
    "#Open(\"file name\",\"permission\")\n",
    "\n",
    "s=\"This is a my file handling program\"\n",
    "file=open(\"demo1.txt\",\"w\")\n",
    "file.write(s)\n",
    "print(\"File created\")\n",
    "file.close()"
   ]
  },
  {
   "cell_type": "code",
   "execution_count": 3,
   "id": "a8c92db5-80db-45f0-a61e-1771a349d9df",
   "metadata": {},
   "outputs": [
    {
     "name": "stdout",
     "output_type": "stream",
     "text": [
      "This is a my file handling program\n"
     ]
    }
   ],
   "source": [
    "#File Read\n",
    "file =open(\"demo1.txt\",\"r\")\n",
    "filecotent=file.read()\n",
    "print(filecotent)"
   ]
  },
  {
   "cell_type": "code",
   "execution_count": 14,
   "id": "b0f472d5-1c30-40b7-955c-539089c9a2a2",
   "metadata": {},
   "outputs": [
    {
     "name": "stdout",
     "output_type": "stream",
     "text": [
      "file created\n"
     ]
    }
   ],
   "source": [
    "#Write a list into file \n",
    "#Python storing a data in a single string \n",
    "\n",
    "l1=[\"Python \",\"Java \",\"PHP \",\"C++ \"]\n",
    "file=open(\"demo2.txt\",\"w\")\n",
    "file.writelines(l1)\n",
    "print(\"file created\")\n",
    "file.close()"
   ]
  },
  {
   "cell_type": "code",
   "execution_count": 18,
   "id": "16b7c734-f3be-422b-bbc6-fb67bc2896de",
   "metadata": {},
   "outputs": [
    {
     "name": "stdout",
     "output_type": "stream",
     "text": [
      "['Python Java PHP C++ ']\n"
     ]
    }
   ],
   "source": [
    "#read a list from file\n",
    "\n",
    "file=open(\"demo2.txt\",\"r\")\n",
    "filelist=file.readlines()\n",
    "print(filelist)\n",
    "file.close()\n"
   ]
  },
  {
   "cell_type": "code",
   "execution_count": 24,
   "id": "cf55d2f2-b5f2-469d-b07a-8f76e041e2cd",
   "metadata": {},
   "outputs": [
    {
     "name": "stdout",
     "output_type": "stream",
     "text": [
      "file Update\n"
     ]
    }
   ],
   "source": [
    "#appendinf the value into file\n",
    "\n",
    "S=\"Python file handling\"\n",
    "file=open(\"demo2.txt\",\"a\")\n",
    "file.write(S)\n",
    "print(\"file Update\")\n",
    "file.close()"
   ]
  }
 ],
 "metadata": {
  "kernelspec": {
   "display_name": "Python 3 (ipykernel)",
   "language": "python",
   "name": "python3"
  },
  "language_info": {
   "codemirror_mode": {
    "name": "ipython",
    "version": 3
   },
   "file_extension": ".py",
   "mimetype": "text/x-python",
   "name": "python",
   "nbconvert_exporter": "python",
   "pygments_lexer": "ipython3",
   "version": "3.9.12"
  }
 },
 "nbformat": 4,
 "nbformat_minor": 5
}
