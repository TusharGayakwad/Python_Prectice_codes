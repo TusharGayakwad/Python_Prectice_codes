{
 "cells": [
  {
   "cell_type": "code",
   "execution_count": 5,
   "id": "cd9e5767-420b-488e-9abc-46dd18d2ea3a",
   "metadata": {},
   "outputs": [
    {
     "name": "stdout",
     "output_type": "stream",
     "text": [
      "7\n"
     ]
    }
   ],
   "source": [
    "#Import Random \n",
    "\n",
    "#From random import functionname \n",
    "            #or\n",
    "#import random\n",
    "\n",
    "#Choice()\n",
    "from random import choice\n",
    "\n",
    "l1=[1,2,3,5,6,7,8,9]\n",
    "print(choice(l1))"
   ]
  },
  {
   "cell_type": "code",
   "execution_count": 6,
   "id": "e08d10e5-62c3-48fb-a359-b857a4101bf6",
   "metadata": {},
   "outputs": [
    {
     "name": "stdout",
     "output_type": "stream",
     "text": [
      "your OTP: 44405\n"
     ]
    }
   ],
   "source": [
    "#Randint() {Max use for genrate otp }\n",
    "\n",
    "from random import randint\n",
    "otp=randint(10000,99999)\n",
    "print(\"your OTP:\",otp)"
   ]
  },
  {
   "cell_type": "code",
   "execution_count": 8,
   "id": "a5b42232-a0ca-4bb8-98b9-ddf106779eba",
   "metadata": {},
   "outputs": [
    {
     "name": "stdout",
     "output_type": "stream",
     "text": [
      "['Mango', 'Apple', 'Banana']\n"
     ]
    }
   ],
   "source": [
    "#Shuffle()\n",
    "\n",
    "from random import shuffle\n",
    "\n",
    "l2=[\"Apple\",\"Mango\",\"Banana\"]\n",
    "shuffle(l2)\n",
    "print(l2)\n"
   ]
  },
  {
   "cell_type": "code",
   "execution_count": null,
   "id": "43b57ac4-298c-4d20-846c-2e51fb54fbd0",
   "metadata": {},
   "outputs": [],
   "source": []
  }
 ],
 "metadata": {
  "kernelspec": {
   "display_name": "Python 3 (ipykernel)",
   "language": "python",
   "name": "python3"
  },
  "language_info": {
   "codemirror_mode": {
    "name": "ipython",
    "version": 3
   },
   "file_extension": ".py",
   "mimetype": "text/x-python",
   "name": "python",
   "nbconvert_exporter": "python",
   "pygments_lexer": "ipython3",
   "version": "3.9.12"
  }
 },
 "nbformat": 4,
 "nbformat_minor": 5
}
