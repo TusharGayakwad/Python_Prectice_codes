{
 "cells": [
  {
   "cell_type": "code",
   "execution_count": 1,
   "id": "8eabada9-6493-4ecd-9db9-7301ded19c75",
   "metadata": {},
   "outputs": [
    {
     "name": "stdout",
     "output_type": "stream",
     "text": [
      "Parent class function called\n",
      "Child class function called\n"
     ]
    }
   ],
   "source": [
    "#Single Inheritence\n",
    "\n",
    "class parentclass:#Parent class\n",
    "    def myfunction1(self):#Parent class propety\n",
    "        print(\"Parent class function called\")\n",
    "\n",
    "class childclass(parentclass):#child class which inhrit parent class\n",
    "    def myfunction2(self):#Child class propety\n",
    "        print(\"Child class function called\")\n",
    "        \n",
    "#Creating on object of childclass\n",
    "c1=childclass()\n",
    "c1.myfunction1()\n",
    "c1.myfunction2()"
   ]
  },
  {
   "cell_type": "code",
   "execution_count": 5,
   "id": "37bf0b8c-7304-4dd3-837f-4c7c8bbe6060",
   "metadata": {},
   "outputs": [
    {
     "name": "stdout",
     "output_type": "stream",
     "text": [
      "class A function called\n",
      "class B function called\n",
      "class C function called\n"
     ]
    }
   ],
   "source": [
    "#Multilevel Inheritence\n",
    "\n",
    "class A:#Parent class\n",
    "    def myfunction1(self):#Parent class propety\n",
    "        print(\"class A function called\")\n",
    "\n",
    "class B(A):#child class which inhrit parent class\n",
    "    def myfunction2(self):#Child class propety\n",
    "        print(\"class B function called\")\n",
    "\n",
    "class C(B):#child class which inhrit parent class\n",
    "    def myfunction3(self):#Child class propety\n",
    "        print(\"class C function called\")\n",
    "        \n",
    "#Creating on object of childclass\n",
    "D=C()\n",
    "D.myfunction1()\n",
    "D.myfunction2()\n",
    "D.myfunction3()"
   ]
  },
  {
   "cell_type": "code",
   "execution_count": 9,
   "id": "bedcaee2-5cde-4dfc-a322-ad0f1def5936",
   "metadata": {},
   "outputs": [
    {
     "name": "stdout",
     "output_type": "stream",
     "text": [
      "class A function called\n",
      "class B function called\n",
      "child class C function called\n"
     ]
    }
   ],
   "source": [
    "#Multiple Inheritence\n",
    "\n",
    "class A:#1st Parent class\n",
    "    def myfunction1(self):# Parent class propety\n",
    "        print(\"class A function called\")\n",
    "\n",
    "class B:#2nd Parent class\n",
    "    def myfunction2(self):# Parent class propety\n",
    "        print(\"class B function called\")\n",
    "\n",
    "class C(A,B):#child class which inhrit parent class\n",
    "    def myfunction3(self):#Child class propety\n",
    "        print(\"child class C function called\")\n",
    "        \n",
    "#Creating on object of childclass\n",
    "D=C()\n",
    "D.myfunction1()\n",
    "D.myfunction2()\n",
    "D.myfunction3()"
   ]
  },
  {
   "cell_type": "code",
   "execution_count": 10,
   "id": "5d404d1c-84c2-4318-bb42-3e9ba6271b16",
   "metadata": {},
   "outputs": [
    {
     "name": "stdout",
     "output_type": "stream",
     "text": [
      "Parent class function called\n",
      "1st Child class function called\n",
      "Parent class function called\n",
      "2st Child class function called\n"
     ]
    }
   ],
   "source": [
    "#Hierarchical Inheritence\n",
    "\n",
    "class A:#Parent class\n",
    "    def myfunction1(self):#Parent class propety\n",
    "        print(\"Parent class function called\")\n",
    "\n",
    "class B(A):#1st child class which inhrit parent class\n",
    "    def myfunction2(self):#Child class propety\n",
    "        print(\"1st Child class function called\")\n",
    "    \n",
    "class C(A):#2nd child class which inhrit parent class\n",
    "    def myfunction3(self):#Child class propety\n",
    "        print(\"2st Child class function called\")\n",
    "        \n",
    "#Creating on object of childclass\n",
    "C1=B()\n",
    "D1=C()\n",
    "\n",
    "C1.myfunction1()\n",
    "C1.myfunction2()\n",
    "\n",
    "D1.myfunction1()\n",
    "D1.myfunction3()"
   ]
  },
  {
   "cell_type": "code",
   "execution_count": 11,
   "id": "e614bef4-65d9-49a6-99af-adec125d88bd",
   "metadata": {},
   "outputs": [
    {
     "name": "stdout",
     "output_type": "stream",
     "text": [
      "Parent class function called\n",
      "1st Child class function called\n",
      "2st Child class function called\n",
      "3st Child class function called\n"
     ]
    }
   ],
   "source": [
    "#Hybrid Inheritence\n",
    "\n",
    "class A:#Parent class\n",
    "    def myfunction1(self):#Parent class propety\n",
    "        print(\"Parent class function called\")\n",
    "\n",
    "class B(A):#1st child class which inhrit parent class\n",
    "    def myfunction2(self):#Child class propety\n",
    "        print(\"1st Child class function called\")\n",
    "    \n",
    "class C(A):#2nd child class which inhrit parent class\n",
    "    def myfunction3(self):#Child class propety\n",
    "        print(\"2st Child class function called\")\n",
    "\n",
    "class D(B,C):#3nd child class which inhrit parent class\n",
    "    def myfunction4(self):#Child class propety\n",
    "        print(\"3st Child class function called\")\n",
    "\n",
    "#Creating on object of childclass\n",
    "C1=D()\n",
    "C1.myfunction1()\n",
    "C1.myfunction2()\n",
    "C1.myfunction3()\n",
    "C1.myfunction4()"
   ]
  }
 ],
 "metadata": {
  "kernelspec": {
   "display_name": "Python 3 (ipykernel)",
   "language": "python",
   "name": "python3"
  },
  "language_info": {
   "codemirror_mode": {
    "name": "ipython",
    "version": 3
   },
   "file_extension": ".py",
   "mimetype": "text/x-python",
   "name": "python",
   "nbconvert_exporter": "python",
   "pygments_lexer": "ipython3",
   "version": "3.9.12"
  }
 },
 "nbformat": 4,
 "nbformat_minor": 5
}
