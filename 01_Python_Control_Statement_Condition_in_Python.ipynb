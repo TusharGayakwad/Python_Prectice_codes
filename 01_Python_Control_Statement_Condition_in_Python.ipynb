{
 "cells": [
  {
   "cell_type": "code",
   "execution_count": 2,
   "id": "e99bb366-a68e-4bd0-8687-22b65c24bd3b",
   "metadata": {},
   "outputs": [
    {
     "name": "stdout",
     "output_type": "stream",
     "text": [
      "value pf variable is - 10 \n",
      "bye\n"
     ]
    }
   ],
   "source": [
    "#Simple if\n",
    "\n",
    "ver=10\n",
    "if (ver == 10):\n",
    "    print(\"value pf variable is - 10 \")\n",
    "print(\"bye\")"
   ]
  },
  {
   "cell_type": "code",
   "execution_count": 4,
   "id": "12c27a3b-be84-461d-8da8-1c3a81d5e2f8",
   "metadata": {},
   "outputs": [
    {
     "name": "stdin",
     "output_type": "stream",
     "text": [
      "Enter the value of A: 4\n",
      "Enter the value of B: 7\n"
     ]
    },
    {
     "name": "stdout",
     "output_type": "stream",
     "text": [
      "B is grater then A\n"
     ]
    }
   ],
   "source": [
    "# if_else\n",
    "\n",
    "a = int(input(\"Enter the value of A:\"))\n",
    "b = int(input(\"Enter the value of B:\"))\n",
    "\n",
    "if a<b :\n",
    "    print(\"B is grater then A\")\n",
    "    \n",
    "else:\n",
    "    print(\"A is grater then B\")"
   ]
  },
  {
   "cell_type": "code",
   "execution_count": 6,
   "id": "fe586796-0d2a-416d-af2b-6d386a26b30f",
   "metadata": {},
   "outputs": [
    {
     "name": "stdin",
     "output_type": "stream",
     "text": [
      "Enter the persentege  65\n"
     ]
    },
    {
     "name": "stdout",
     "output_type": "stream",
     "text": [
      "1st class\n"
     ]
    }
   ],
   "source": [
    "# if_else_ledder\n",
    "\n",
    "p=int(input(\"Enter the persentege \"))\n",
    "\n",
    "if p>=70:\n",
    "    print(\"DIST\")\n",
    "elif p>=65 and p<=70:\n",
    "    print(\"1st class\")\n",
    "elif p>=60 and p<=65:\n",
    "    print(\"2st class\")\n",
    "elif p>=55 and p<=60:\n",
    "    print(\"3st class\")\n",
    "else:\n",
    "    print(\"Fail\")"
   ]
  },
  {
   "cell_type": "code",
   "execution_count": null,
   "id": "6eda5ce3-91c0-4eee-903b-266d7c8b60b6",
   "metadata": {},
   "outputs": [],
   "source": [
    "#Nested if \n",
    "\n",
    "age = int(input(\"Enter you age:\"))\n",
    "\n",
    "if age >=18 :\n",
    "    Weg=int(input(\"Enter you wight :\"))\n",
    "    if Weg >= 50:\n",
    "        print(\"Donet the blood\")\n",
    "    else :\n",
    "        print(\"uder the Wight, you can't donate\")\n",
    "else:\n",
    "    print(\"uder the Age, you can't donate\")\n",
    "\n",
    "        "
   ]
  },
  {
   "cell_type": "code",
   "execution_count": 8,
   "id": "8f64541b-ab43-4045-8431-87b5ffe4f68b",
   "metadata": {},
   "outputs": [
    {
     "name": "stdout",
     "output_type": "stream",
     "text": [
      "5\n",
      "9\n",
      "12\n",
      "14\n",
      "15\n",
      "5\n",
      "9\n",
      "12\n",
      "14\n",
      "15\n"
     ]
    }
   ],
   "source": [
    "#For loop \n",
    "#print 5,9,12,14,15\n",
    "n=5\n",
    "sum=0\n",
    "for i in range(1,6):\n",
    "    sum=sum+n\n",
    "    n=n-1\n",
    "    print(sum)\n",
    "\n",
    "#OR\n",
    "   \n",
    "n=5\n",
    "sum=0\n",
    "for i in range(n,0,-1):\n",
    "    sum=sum+i\n",
    "    print(sum)\n"
   ]
  },
  {
   "cell_type": "code",
   "execution_count": 9,
   "id": "f41a4224-3fbe-4bfd-baa9-b88a367e8a2f",
   "metadata": {
    "tags": []
   },
   "outputs": [
    {
     "name": "stdin",
     "output_type": "stream",
     "text": [
      "Enter the num: 3\n"
     ]
    },
    {
     "name": "stdout",
     "output_type": "stream",
     "text": [
      "Sum: 3\n",
      "Sum: 5\n",
      "Sum: 6\n",
      "looperror\n"
     ]
    }
   ],
   "source": [
    "# While loop with else part\n",
    "\n",
    "sum=0\n",
    "n=int(input(\"Enter the num:\"))\n",
    "while n>0:\n",
    "    sum=sum+n\n",
    "    n-=1\n",
    "    print(\"Sum:\",sum)\n",
    "else:\n",
    "    print(\"looperror\")\n",
    "    "
   ]
  },
  {
   "cell_type": "code",
   "execution_count": 11,
   "id": "06036f9c-b994-45d4-80fc-290ecde73c33",
   "metadata": {},
   "outputs": [
    {
     "name": "stdout",
     "output_type": "stream",
     "text": [
      "Python\n",
      "Java\n",
      "C\n",
      "C++\n"
     ]
    }
   ],
   "source": [
    "# Simple For Loop \n",
    "\n",
    "Word = [\"Python\",\"Java\",\"C\",\"C++\"]\n",
    "for i in Word:\n",
    "    print(i)"
   ]
  },
  {
   "cell_type": "code",
   "execution_count": 18,
   "id": "22b8f42d-d955-4927-9526-3450e01ee6e6",
   "metadata": {},
   "outputs": [
    {
     "name": "stdin",
     "output_type": "stream",
     "text": [
      "enter the num: 9\n"
     ]
    },
    {
     "name": "stdout",
     "output_type": "stream",
     "text": [
      "* \n",
      "* * \n",
      "* * * \n",
      "* * * * \n",
      "* * * * * \n",
      "* * * * * * \n",
      "* * * * * * * \n",
      "* * * * * * * * \n",
      "* * * * * * * * * \n"
     ]
    }
   ],
   "source": [
    "# Nested For Loop \n",
    "n=int(input(\"enter the num:\"))\n",
    "for i in range(1,n+1):\n",
    "    for j in range(1,i+1):\n",
    "        print(\"*\",end=\" \")\n",
    "    print(\"\")"
   ]
  },
  {
   "cell_type": "code",
   "execution_count": 19,
   "id": "03ae817b-7307-48fa-a49a-d678048643d5",
   "metadata": {},
   "outputs": [
    {
     "name": "stdin",
     "output_type": "stream",
     "text": [
      "enter the num: 6\n"
     ]
    },
    {
     "name": "stdout",
     "output_type": "stream",
     "text": [
      "* * * * * \n",
      "* * * * \n",
      "* * * \n",
      "* * \n",
      "* \n"
     ]
    }
   ],
   "source": [
    "# Nested For Loop \n",
    "\n",
    "n=int(input(\"enter the num:\"))\n",
    "for i in range(5,0,-1):\n",
    "    for j in range(1,i+1):\n",
    "        print(\"*\",end=\" \")\n",
    "    print(\"\")"
   ]
  },
  {
   "cell_type": "code",
   "execution_count": null,
   "id": "82168f78-cac0-4913-945c-6198ff4f1885",
   "metadata": {},
   "outputs": [],
   "source": []
  }
 ],
 "metadata": {
  "kernelspec": {
   "display_name": "Python 3 (ipykernel)",
   "language": "python",
   "name": "python3"
  },
  "language_info": {
   "codemirror_mode": {
    "name": "ipython",
    "version": 3
   },
   "file_extension": ".py",
   "mimetype": "text/x-python",
   "name": "python",
   "nbconvert_exporter": "python",
   "pygments_lexer": "ipython3",
   "version": "3.9.12"
  }
 },
 "nbformat": 4,
 "nbformat_minor": 5
}
