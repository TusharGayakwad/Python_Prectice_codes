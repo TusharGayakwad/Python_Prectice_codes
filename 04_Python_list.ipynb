{
 "cells": [
  {
   "cell_type": "code",
   "execution_count": 5,
   "id": "e89c4688-d6d9-4342-9351-c2d94e0c9e36",
   "metadata": {},
   "outputs": [
    {
     "name": "stdout",
     "output_type": "stream",
     "text": [
      "Interger List:  [1, 2, 3, 4, 5]\n",
      "String List:  ['Apple', 'Orenge', 'Mango']\n"
     ]
    }
   ],
   "source": [
    "#Creting a list \n",
    "#list - It is a store a miltiple data types \n",
    "\n",
    "l1=[1,2,3,4,5]\n",
    "l2=[\"Apple\",\"Orenge\",\"Mango\"]\n",
    "\n",
    "print(\"Interger List: \",l1)\n",
    "print(\"String List: \",l2)"
   ]
  },
  {
   "cell_type": "code",
   "execution_count": 6,
   "id": "9ae63d88-a816-4914-8e7f-ea3264d86e9b",
   "metadata": {},
   "outputs": [
    {
     "name": "stdout",
     "output_type": "stream",
     "text": [
      "Dublicate value:  [1, 2, 3, 4, 5, 1, 2, 3]\n"
     ]
    }
   ],
   "source": [
    "#Duplicate variable in list\n",
    "#list - It is allowed a duplicate value\n",
    "\n",
    "l1=[1,2,3,4,5,1,2,3]\n",
    "\n",
    "print(\"Dublicate value: \",l1)\n"
   ]
  },
  {
   "cell_type": "code",
   "execution_count": 14,
   "id": "4be566ac-5e54-40c8-bbbb-7a7c94a67182",
   "metadata": {},
   "outputs": [
    {
     "name": "stdout",
     "output_type": "stream",
     "text": [
      "list l1 : [1, 2, 3, 4, 5, 1, 2, 3] \n",
      "list l1 datatype [:<class 'list'>]\n"
     ]
    }
   ],
   "source": [
    "#List contructor\n",
    "\n",
    "l1=list((1,2,3,4,5,1,2,3))\n",
    "#Note- There is double brackets is a list contructor\n",
    "\n",
    "print(f\"list l1 : {l1} \\nlist l1 datatype :{type(l1)}\")"
   ]
  },
  {
   "cell_type": "code",
   "execution_count": 12,
   "id": "9078eca0-6918-4d61-9f07-e4d4630e7a88",
   "metadata": {},
   "outputs": [
    {
     "name": "stdout",
     "output_type": "stream",
     "text": [
      "Current list:  [1, 2, 3, 4, 5, 6, 7, 8, 9, 10]\n",
      "Index 1 value : 2\n",
      "Index Between 1 to 6 value : [2, 3, 4, 5, 6]\n",
      "Index till 6 value : [1, 2, 3, 4, 5, 6]\n",
      "last value : 10\n"
     ]
    }
   ],
   "source": [
    "# list slicing\n",
    "\n",
    "l1=[1,2,3,4,5,6,7,8,9,10]\n",
    "\n",
    "print(\"Current list: \",l1)\n",
    "\n",
    "#Access the value of index 1\n",
    "print(\"Index 1 value :\",l1[1])\n",
    "\n",
    "#Access the value Between index 1 to 6\n",
    "print(\"Index Between 1 to 6 value :\",l1[1:6])\n",
    "\n",
    "#Access the value till index 6\n",
    "print(\"Index till 6 value :\",l1[:6])\n",
    "\n",
    "#Access the last  value from list \n",
    "print(\"last value :\",l1[-1])\n"
   ]
  },
  {
   "cell_type": "code",
   "execution_count": 15,
   "id": "d0bb1f80-bade-4438-ba68-7aa8af87a000",
   "metadata": {},
   "outputs": [
    {
     "name": "stdout",
     "output_type": "stream",
     "text": [
      "Current list:  [1, 2, 3, 4, 5, 6, 7, 8, 9, 10]\n",
      "Update list:  [1, 11, 12, 13, 4, 5, 6, 7, 8, 9, 10]\n"
     ]
    }
   ],
   "source": [
    "#list item chage\n",
    "\n",
    "l1=[1,2,3,4,5,6,7,8,9,10]\n",
    "print(\"Current list: \",l1)\n",
    "\n",
    "#change the item in list\n",
    "l1[1:3]=(11,12,13)\n",
    "print(\"Update list: \",l1)\n"
   ]
  },
  {
   "cell_type": "code",
   "execution_count": 17,
   "id": "ce2a8112-5b02-4f2b-8d78-1b49920b5f2c",
   "metadata": {},
   "outputs": [
    {
     "name": "stdout",
     "output_type": "stream",
     "text": [
      "Current list:  [1, 2, 3, 4, 5, 6, 7, 8, 9, 10]\n",
      "Update list: [1, 2, 50, 3, 4, 5, 6, 7, 8, 9, 10]\n"
     ]
    }
   ],
   "source": [
    "#Insert into List\n",
    "\n",
    "l1=[1,2,3,4,5,6,7,8,9,10]\n",
    "print(\"Current list: \",l1)\n",
    "\n",
    "#Updating the list using insert method\n",
    "l1.insert(2,50)\n",
    "print(\"Update list:\",l1)"
   ]
  },
  {
   "cell_type": "code",
   "execution_count": 20,
   "id": "afcdb83c-b3e2-4119-8222-eac75a6e9899",
   "metadata": {},
   "outputs": [
    {
     "name": "stdout",
     "output_type": "stream",
     "text": [
      "Current list l1 :[1, 2, 3, 4, 5] \n",
      "Current list l2 :['Apple', 'Orenge', 'Mango'] \n",
      "Update list: [1, 2, 3, 4, 5, 'Apple', 'Orenge', 'Mango']\n"
     ]
    }
   ],
   "source": [
    "#Extend List\n",
    "\n",
    "l1=[1,2,3,4,5]\n",
    "l2=[\"Apple\",\"Orenge\",\"Mango\"]\n",
    "print(f\"Current list l1 :{l1} \\nCurrent list l2 :{l2} \")\n",
    "\n",
    "#Entending the list using extend method\n",
    "l1.extend(l2)\n",
    "print(\"Update list:\",l1)"
   ]
  },
  {
   "cell_type": "code",
   "execution_count": 21,
   "id": "5f03f52b-b8c0-4b81-a6a2-5f91de4e0e51",
   "metadata": {},
   "outputs": [
    {
     "name": "stdout",
     "output_type": "stream",
     "text": [
      "Update list: [1, 3, 4, 5]\n"
     ]
    }
   ],
   "source": [
    "#type of deleting the on list \n",
    "#Remove item in list \n",
    "\n",
    "#remove():This method is used to remove element from list\n",
    "l1=[1,2,3,4,5]\n",
    "print(\"Current list: \",l1)\n",
    "\n",
    "#Remove the item in  list using remove method\n",
    "l1.remove(2)\n",
    "print(\"Update list:\",l1)"
   ]
  },
  {
   "cell_type": "code",
   "execution_count": 23,
   "id": "9eb6b919-386a-4b9c-9f4a-7d7aefa8cbec",
   "metadata": {},
   "outputs": [
    {
     "name": "stdout",
     "output_type": "stream",
     "text": [
      "Current list:  [1, 2, 3, 4, 5]\n",
      "Update list: [1, 2, 3, 4]\n"
     ]
    }
   ],
   "source": [
    "#type of deleting the on list \n",
    "#Pop item in list \n",
    "\n",
    "#pop():This method is used to remove last element from list\n",
    "l1=[1,2,3,4,5]\n",
    "print(\"Current list: \",l1)\n",
    "\n",
    "#Remove the item in  list using pop method\n",
    "l1.pop()\n",
    "print(\"Update list:\",l1)"
   ]
  },
  {
   "cell_type": "code",
   "execution_count": 29,
   "id": "f471ffb4-14a5-4f2a-b7d0-fc88aa8fc310",
   "metadata": {},
   "outputs": [
    {
     "name": "stdout",
     "output_type": "stream",
     "text": [
      "Current list:  [1, 2, 3, 4, 5]\n",
      "Update list: [1, 2, 3, 4]\n"
     ]
    }
   ],
   "source": [
    "#type of deleting the on list \n",
    "#del item in list \n",
    "\n",
    "#del():This method is used to remove last element from index\n",
    "l1=[1,2,3,4,5]\n",
    "print(\"Current list: \",l1)\n",
    "\n",
    "#Remove the item in  list using del method\n",
    "del l1[4]\n",
    "print(\"Update list:\",l1)"
   ]
  },
  {
   "cell_type": "code",
   "execution_count": 30,
   "id": "9c28934f-50fe-403b-9151-2ddc370e8319",
   "metadata": {},
   "outputs": [
    {
     "name": "stdout",
     "output_type": "stream",
     "text": [
      "Current list:  [1, 2, 3, 4, 5]\n",
      "Update list: []\n"
     ]
    }
   ],
   "source": [
    "#type of deleting the on list \n",
    "#clear item in list \n",
    "\n",
    "#clear():This method is used to clear the list\n",
    "l1=[1,2,3,4,5]\n",
    "print(\"Current list: \",l1)\n",
    "\n",
    "#Remove the item in  list using pop method\n",
    "l1.clear()\n",
    "print(\"Update list:\",l1)"
   ]
  }
 ],
 "metadata": {
  "kernelspec": {
   "display_name": "Python 3 (ipykernel)",
   "language": "python",
   "name": "python3"
  },
  "language_info": {
   "codemirror_mode": {
    "name": "ipython",
    "version": 3
   },
   "file_extension": ".py",
   "mimetype": "text/x-python",
   "name": "python",
   "nbconvert_exporter": "python",
   "pygments_lexer": "ipython3",
   "version": "3.9.12"
  }
 },
 "nbformat": 4,
 "nbformat_minor": 5
}
