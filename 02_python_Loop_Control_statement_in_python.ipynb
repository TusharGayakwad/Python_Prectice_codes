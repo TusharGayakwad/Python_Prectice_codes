{
 "cells": [
  {
   "cell_type": "code",
   "execution_count": 5,
   "id": "e3592e0c-f20a-4733-b426-cfa4c7ea8097",
   "metadata": {},
   "outputs": [
    {
     "name": "stdout",
     "output_type": "stream",
     "text": [
      "Current Letter : p\n",
      "Current Letter : y\n",
      "Current Letter : t\n"
     ]
    }
   ],
   "source": [
    "# Break Statement\n",
    "\n",
    "for letter in \"python\":\n",
    "    if letter==\"h\":\n",
    "        # Here i am using break statement to breck execution break\n",
    "        break\n",
    "    print(\"Current Letter :\",letter)"
   ]
  },
  {
   "cell_type": "code",
   "execution_count": 7,
   "id": "3a7f0171-d99e-44ad-a21e-d0f783e0bbef",
   "metadata": {},
   "outputs": [
    {
     "name": "stdout",
     "output_type": "stream",
     "text": [
      "Current Letter : p\n",
      "Current Letter : y\n",
      "Current Letter : t\n",
      "Current Letter : o\n",
      "Current Letter : n\n"
     ]
    }
   ],
   "source": [
    "# Continue statement\n",
    "\n",
    "for letter in \"python\":\n",
    "    if letter==\"h\":\n",
    "        # Continue statement will skip the \"h\"\n",
    "        continue\n",
    "    print(\"Current Letter :\",letter)\n"
   ]
  },
  {
   "cell_type": "code",
   "execution_count": 8,
   "id": "3ab31b21-402b-4c91-93d1-bdf7dba3ecd6",
   "metadata": {},
   "outputs": [
    {
     "name": "stdout",
     "output_type": "stream",
     "text": [
      "Current Letter : p\n",
      "Current Letter : y\n",
      "Current Letter : t\n",
      "Pass block\n",
      "Current Letter : h\n",
      "Current Letter : o\n",
      "Current Letter : n\n"
     ]
    }
   ],
   "source": [
    "# Pass statement \n",
    "\n",
    "for letter in \"python\":\n",
    "    if letter==\"h\":\n",
    "        pass\n",
    "        print(\"Pass block\")\n",
    "    print(\"Current Letter :\",letter)"
   ]
  },
  {
   "cell_type": "code",
   "execution_count": null,
   "id": "ef9d9eac-b696-49e4-98ca-194bdc46854d",
   "metadata": {},
   "outputs": [],
   "source": []
  }
 ],
 "metadata": {
  "kernelspec": {
   "display_name": "Python 3 (ipykernel)",
   "language": "python",
   "name": "python3"
  },
  "language_info": {
   "codemirror_mode": {
    "name": "ipython",
    "version": 3
   },
   "file_extension": ".py",
   "mimetype": "text/x-python",
   "name": "python",
   "nbconvert_exporter": "python",
   "pygments_lexer": "ipython3",
   "version": "3.9.12"
  }
 },
 "nbformat": 4,
 "nbformat_minor": 5
}
