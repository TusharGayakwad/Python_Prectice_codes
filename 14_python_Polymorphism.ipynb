{
 "cells": [
  {
   "cell_type": "code",
   "execution_count": 1,
   "id": "61468e36-1adc-4fe2-b6bd-40bf3ef0cd1d",
   "metadata": {},
   "outputs": [
    {
     "name": "stdout",
     "output_type": "stream",
     "text": [
      "Function with 2 argument\n"
     ]
    }
   ],
   "source": [
    "#Python polymorphism\n",
    "\n",
    "#Method Overloading\n",
    "class MO:\n",
    "    def myfunction(self): #No arguments\n",
    "        print(\"function with no argument\")\n",
    "        \n",
    "    def myfunction(self,a): #1 arguments\n",
    "        print(\"Function with 1 argument\")\n",
    "        \n",
    "    def myfunction(self,a,b): #2 arguments\n",
    "        print(\"Function with 2 argument\")\n",
    "\n",
    "#Creating on object of class MO \n",
    "m=MO()\n",
    "m.myfunction(10,20)\n",
    "\n",
    "#Note:Method Overloding is not supported because python is interpreter language"
   ]
  },
  {
   "cell_type": "code",
   "execution_count": 4,
   "id": "87cddfd5-6376-4412-9eab-e6d745a55f54",
   "metadata": {},
   "outputs": [
    {
     "name": "stdout",
     "output_type": "stream",
     "text": [
      "Class MO3 function called\n",
      "Class MO2 function called\n"
     ]
    }
   ],
   "source": [
    "#Method Overriding\n",
    "\n",
    "class MO1: #Parent class\n",
    "    def myfunction(self,a):\n",
    "        print(\"Class MO1 function called\")\n",
    "\n",
    "class MO2(MO1): #Child class\n",
    "    def myfunction(self,a):\n",
    "        print(\"Class MO2 function called\")\n",
    "\n",
    "class MO3(MO2): #Child class\n",
    "    def myfunction(self,a):\n",
    "        print(\"Class MO3 function called\")\n",
    "        super().myfunction(10)\n",
    "        \n",
    "#Creating on object of class MO3\n",
    "m=MO3()#Object of MO3\n",
    "m.myfunction(10)\n",
    "\n",
    "#Super method =this method calling the method of class MO1/MO2"
   ]
  }
 ],
 "metadata": {
  "kernelspec": {
   "display_name": "Python 3 (ipykernel)",
   "language": "python",
   "name": "python3"
  },
  "language_info": {
   "codemirror_mode": {
    "name": "ipython",
    "version": 3
   },
   "file_extension": ".py",
   "mimetype": "text/x-python",
   "name": "python",
   "nbconvert_exporter": "python",
   "pygments_lexer": "ipython3",
   "version": "3.9.12"
  }
 },
 "nbformat": 4,
 "nbformat_minor": 5
}
