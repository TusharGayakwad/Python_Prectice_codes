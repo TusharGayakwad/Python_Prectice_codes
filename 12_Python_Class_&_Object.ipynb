{
 "cells": [
  {
   "cell_type": "code",
   "execution_count": 5,
   "id": "6b3b3fa5-869a-47ea-82c8-6e4c338cc2eb",
   "metadata": {},
   "outputs": [
    {
     "name": "stdout",
     "output_type": "stream",
     "text": [
      "<class '__main__.myclass'>\n"
     ]
    }
   ],
   "source": [
    "#How to create a class \n",
    "\n",
    "class myclass:\n",
    "    x=2 #Property of class\n",
    "\n",
    "print(myclass)"
   ]
  },
  {
   "cell_type": "code",
   "execution_count": 4,
   "id": "858aad7f-a8d9-4b62-805c-9e3528ece7fe",
   "metadata": {},
   "outputs": [
    {
     "name": "stdout",
     "output_type": "stream",
     "text": [
      "2\n"
     ]
    }
   ],
   "source": [
    "#How to clreate a object\n",
    "\n",
    "class myclass:\n",
    "    x=2 #Property of class\n",
    "\n",
    "#Creating object of myclass\n",
    "\n",
    "m1=myclass() #m1 is a object of class\n",
    "print(m1.x)\n",
    "#{Note:Without oblect you can not access class property}"
   ]
  },
  {
   "cell_type": "code",
   "execution_count": 6,
   "id": "57353d11-9ffc-4276-9455-b33e92b4b4f4",
   "metadata": {},
   "outputs": [
    {
     "name": "stdout",
     "output_type": "stream",
     "text": [
      "Hello\n"
     ]
    }
   ],
   "source": [
    "#calling a Function by object \n",
    "\n",
    "class myclass:\n",
    "    def myfunction(self): #Propety of my class & Self is a Comparery\n",
    "        print(\"Hello\")\n",
    "    \n",
    "#Creating an object\n",
    "m1=myclass()\n",
    "m1.myfunction()"
   ]
  },
  {
   "cell_type": "code",
   "execution_count": 11,
   "id": "1c28510c-e4b1-4bbc-a72d-eee231781f31",
   "metadata": {},
   "outputs": [
    {
     "name": "stdout",
     "output_type": "stream",
     "text": [
      "this is my constructor\n"
     ]
    }
   ],
   "source": [
    "#How to create a constructor\n",
    "\n",
    "class myclass:\n",
    "    #creating a constructor\n",
    "    def __init__(self):\n",
    "        print(\"this is my constructor\")\n",
    "\n",
    "#Creating an object\n",
    "m1=myclass()"
   ]
  },
  {
   "cell_type": "code",
   "execution_count": null,
   "id": "e14aca33-25aa-4436-b535-519e04733a7c",
   "metadata": {},
   "outputs": [],
   "source": [
    "#Change the value by object \n",
    "class myclass:\n",
    "    def __init__(self,name,age):\n",
    "        self.name=name\n",
    "        self.age=age\n",
    "    def myfunction(self):\n",
    "        print(\"My name is:\"+self.name)\n",
    "#creating an object\n",
    "m1=myclass(\"sumit\",29)\n",
    "m1.age\n",
    "m1.name\n",
    "\n",
    "#Changing the age using object\n",
    "m1.age=input(\"Enter the age\")\n",
    "print(\"age=\",m1.age)\n",
    "print(\"Name=\",m1.name)\n",
    "    "
   ]
  },
  {
   "cell_type": "code",
   "execution_count": null,
   "id": "bf8e7d45-cbc8-443e-a067-74ad5b0edce6",
   "metadata": {},
   "outputs": [],
   "source": []
  }
 ],
 "metadata": {
  "kernelspec": {
   "display_name": "Python 3 (ipykernel)",
   "language": "python",
   "name": "python3"
  },
  "language_info": {
   "codemirror_mode": {
    "name": "ipython",
    "version": 3
   },
   "file_extension": ".py",
   "mimetype": "text/x-python",
   "name": "python",
   "nbconvert_exporter": "python",
   "pygments_lexer": "ipython3",
   "version": "3.9.12"
  }
 },
 "nbformat": 4,
 "nbformat_minor": 5
}
