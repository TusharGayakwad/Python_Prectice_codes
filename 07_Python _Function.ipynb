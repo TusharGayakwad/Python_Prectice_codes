{
 "cells": [
  {
   "cell_type": "code",
   "execution_count": null,
   "id": "997778b6-89d9-4981-b3ab-d4c17808ccce",
   "metadata": {},
   "outputs": [],
   "source": [
    "#In-buily function \n",
    "\n",
    "#print() Function \n",
    "print(\"Hello\")\n",
    "\n",
    "#range() Function \n",
    "for i in range(1,9,3):\n",
    "    print(i)\n",
    "\n",
    "#Round() Function \n",
    "\n",
    "x=round(53.783,2)\n",
    "print(x)"
   ]
  },
  {
   "cell_type": "code",
   "execution_count": null,
   "id": "1fdaff99-f439-4769-8ce3-c731493ab4da",
   "metadata": {},
   "outputs": [],
   "source": [
    "#User Digine Function \n",
    "\n",
    "def myfunction():\n",
    "    print(\"tush\")\n",
    "\n",
    "#calling a function \n",
    "myfunction()\n"
   ]
  },
  {
   "cell_type": "code",
   "execution_count": null,
   "id": "0775869a-2f13-4dd6-af71-cdcf706f4c9b",
   "metadata": {},
   "outputs": [],
   "source": [
    "#function with one argument\n",
    "\n",
    "def myfunction(a):\n",
    "    print(\"A: \",a)\n",
    "\n",
    "#calling a function \n",
    "myfunction(10)\n",
    "\n"
   ]
  },
  {
   "cell_type": "code",
   "execution_count": null,
   "id": "990272cd-2cbc-4107-9b0c-8fd91ac84ac7",
   "metadata": {},
   "outputs": [],
   "source": [
    "#function with multiple argument\n",
    "\n",
    "def myfunction(a,b):\n",
    "    print(\"A: \",a)\n",
    "    print(\"B: \",b)\n",
    "\n",
    "#calling a function\n",
    "a=int(input(\"Enter the first num\"))\n",
    "b=int(input(\"Enter the secend num\"))\n",
    "myfunction(a,b)\n"
   ]
  },
  {
   "cell_type": "code",
   "execution_count": null,
   "id": "cc4bdaf9-9a0b-42bf-bc90-56437ba028c5",
   "metadata": {},
   "outputs": [],
   "source": [
    "#Keyword arguments \n",
    "\n",
    "def myfunction(child3,child2,child1):\n",
    "    print(\"youngest child is :\"+child1)\n",
    "\n",
    "#calling a function()\n",
    "\n",
    "myfunction(child1=\"Ram\",child2=\"pwn\",child3=\"Tush\")\n"
   ]
  },
  {
   "cell_type": "code",
   "execution_count": null,
   "id": "f55e35fd-06ee-4fde-b71e-220d81ab40b4",
   "metadata": {},
   "outputs": [],
   "source": [
    "#Default parameter Values \n",
    "\n",
    "#create a function \n",
    "def myfunction(state=\"Gujrat\"):\n",
    "    print(\"I am from :\"+state)\n",
    "    \n",
    "#calling a function multiple times \n",
    "myfunction(\"MP\")\n",
    "myfunction(\"Rajeshethan\")\n",
    "myfunction(\"UP\")\n",
    "myfunction(\"Panjab\")\n",
    "myfunction()"
   ]
  },
  {
   "cell_type": "code",
   "execution_count": null,
   "id": "c93aa539-2f13-4b58-9568-d2d337295ff6",
   "metadata": {},
   "outputs": [],
   "source": [
    "#passing a list into function \n",
    "\n",
    "#Creating a function \n",
    "def myfunction(Fruit):\n",
    "    for i in Fruit:\n",
    "        print(i)\n",
    "\n",
    "f=[\"Mango\",\"Apple\",\"Orange\"]\n",
    "\n",
    "#calling a function \n",
    "myfunction(f)"
   ]
  },
  {
   "cell_type": "code",
   "execution_count": null,
   "id": "68c06b88-6746-46d5-9dd5-108c6ad18450",
   "metadata": {},
   "outputs": [],
   "source": [
    "#Return values from function \n",
    "def myfunction(a,b,c):\n",
    "    return a+b+c\n",
    "\n",
    "#Calling of a function\n",
    "myfunction(2,4,6)"
   ]
  },
  {
   "cell_type": "code",
   "execution_count": null,
   "id": "ae6dc2a3-9e2f-4270-9419-9999eaff6867",
   "metadata": {},
   "outputs": [],
   "source": [
    "#Recursion Function \n",
    "#the function calling itself\n",
    "\n",
    "#creating a function\n",
    "def function(x):\n",
    "    if x==1:\n",
    "        return 1\n",
    "    else :\n",
    "        #calling recursion Function\n",
    "        return(x*function(x-1))\n",
    "\n",
    "num=int(input(\"Enter the num\"))\n",
    "print(\"The factorial of\",num,\"is:\",function(num))\n",
    "\n"
   ]
  },
  {
   "cell_type": "code",
   "execution_count": null,
   "id": "655ad5a0-a1cd-4154-8177-5b1f64fcea4c",
   "metadata": {},
   "outputs": [],
   "source": [
    "#Annymous Function (Lemada Function)\n",
    "\n",
    "#creating function \n",
    "x=lambda a:a+10\n",
    "\n",
    "print(x(5))\n",
    "\n",
    "#Lambda Function with multiple argument \n",
    "\n",
    "#creating function \n",
    "y=lambda a,b:a*b\n",
    "\n",
    "print(y(5,10))\n"
   ]
  }
 ],
 "metadata": {
  "kernelspec": {
   "display_name": "Python 3 (ipykernel)",
   "language": "python",
   "name": "python3"
  },
  "language_info": {
   "codemirror_mode": {
    "name": "ipython",
    "version": 3
   },
   "file_extension": ".py",
   "mimetype": "text/x-python",
   "name": "python",
   "nbconvert_exporter": "python",
   "pygments_lexer": "ipython3",
   "version": "3.9.12"
  }
 },
 "nbformat": 4,
 "nbformat_minor": 5
}
