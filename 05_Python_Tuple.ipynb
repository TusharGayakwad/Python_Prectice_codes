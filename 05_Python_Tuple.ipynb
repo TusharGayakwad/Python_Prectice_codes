{
 "cells": [
  {
   "cell_type": "code",
   "execution_count": 1,
   "id": "6c894464-e9ff-47b6-8272-a739350f15af",
   "metadata": {},
   "outputs": [
    {
     "name": "stdout",
     "output_type": "stream",
     "text": [
      "Tuple T1: (1, 2, 3, 4, 5, 6, 7, 8, 9, 10)\n",
      "T1 datatype:<class 'tuple'>\n"
     ]
    }
   ],
   "source": [
    "#Creating the tuple \n",
    "\n",
    "t1=(1,2,3,4,5,6,7,8,9,10)\n",
    "print(f\"Tuple T1: {t1}\\nT1 datatype:{type(t1)}\")"
   ]
  },
  {
   "cell_type": "code",
   "execution_count": 4,
   "id": "53859eb7-2bbf-479e-bc51-7f2ddfb54663",
   "metadata": {},
   "outputs": [
    {
     "name": "stdout",
     "output_type": "stream",
     "text": [
      "Current tuple:(1, 2, 3, 4, 5, 6, 7, 8, 9, 10)\n",
      "tuple length:10\n"
     ]
    }
   ],
   "source": [
    "#How to check a length of tuple \n",
    "\n",
    "t1=(1,2,3,4,5,6,7,8,9,10)\n",
    "print(f\"Current tuple:{t1}\\ntuple length:{len(t1)}\")"
   ]
  },
  {
   "cell_type": "code",
   "execution_count": 7,
   "id": "1f491df3-3952-4fc5-b60a-76d45caf1cbb",
   "metadata": {},
   "outputs": [
    {
     "name": "stdout",
     "output_type": "stream",
     "text": [
      "Current list:  (1, 2, 3, 4, 5, 6, 7, 8, 9, 10)\n",
      "Index 1 value : 2\n",
      "Index Between 1 to 6 value : (2, 3, 4, 5, 6)\n",
      "Index till 6 value : (1, 2, 3, 4, 5, 6)\n",
      "last value : 10\n"
     ]
    }
   ],
   "source": [
    "# Tuple indexing & slicing\n",
    "\n",
    "T1=(1,2,3,4,5,6,7,8,9,10)\n",
    "print(\"Current list: \",T1)\n",
    "\n",
    "#Access the value of index 1\n",
    "print(\"Index 1 value :\",T1[1])\n",
    "\n",
    "#Access the value Between index 1 to 6\n",
    "print(\"Index Between 1 to 6 value :\",T1[1:6])\n",
    "\n",
    "#Access the value till index 6\n",
    "print(\"Index till 6 value :\",T1[:6])\n",
    "\n",
    "#Access the last  value from list \n",
    "print(\"last value :\",T1[-1])\n"
   ]
  },
  {
   "cell_type": "code",
   "execution_count": 3,
   "id": "cb7ccea3-bbbb-454c-9ec1-587878365ecf",
   "metadata": {},
   "outputs": [
    {
     "name": "stdout",
     "output_type": "stream",
     "text": [
      "(1, 2, 3, 4, 5, 6, 7, 8, 9, 10) <class 'tuple'>\n"
     ]
    }
   ],
   "source": [
    "#Tuple Constructor\n",
    "\n",
    "T1=tuple((1,2,3,4,5,6,7,8,9,10))\n",
    "#Note- There is double brackets is a help to create tuple contructor\n",
    "print(T1,type(T1))"
   ]
  },
  {
   "cell_type": "code",
   "execution_count": 9,
   "id": "103b7fd8-a8dd-4f2b-a90d-eb392bf829fe",
   "metadata": {},
   "outputs": [
    {
     "name": "stdout",
     "output_type": "stream",
     "text": [
      "Current list:  (1, 2, 3, 4, 5, 6, 7, 8, 9, 10) <class 'tuple'>\n",
      "update list:  [1, 2, 3, 4, 5, 6, 7, 8, 9, 10] <class 'list'>\n",
      "update list:  [1, 2, 3, 'kiwi', 5, 6, 7, 8, 9, 10] <class 'list'>\n",
      "update list:  (1, 2, 3, 'kiwi', 5, 6, 7, 8, 9, 10) <class 'tuple'>\n"
     ]
    }
   ],
   "source": [
    "#Add item but after converting tuple into list\n",
    "\n",
    "T1=(1,2,3,4,5,6,7,8,9,10)\n",
    "print(\"Current list: \",T1,type(T1))\n",
    "\n",
    "#Convert tuple to list \n",
    "x=list(T1)\n",
    "print(\"update list: \",x,type(x))\n",
    "\n",
    "#Add item to list \n",
    "x[3]=\"kiwi\"\n",
    "print(\"update list: \",x,type(x))\n",
    "\n",
    "#Convert list to tuple \n",
    "y=tuple(x)\n",
    "print(\"update list: \",y,type(y))\n"
   ]
  }
 ],
 "metadata": {
  "kernelspec": {
   "display_name": "Python 3 (ipykernel)",
   "language": "python",
   "name": "python3"
  },
  "language_info": {
   "codemirror_mode": {
    "name": "ipython",
    "version": 3
   },
   "file_extension": ".py",
   "mimetype": "text/x-python",
   "name": "python",
   "nbconvert_exporter": "python",
   "pygments_lexer": "ipython3",
   "version": "3.9.12"
  }
 },
 "nbformat": 4,
 "nbformat_minor": 5
}
