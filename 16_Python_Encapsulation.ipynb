{
 "cells": [
  {
   "cell_type": "code",
   "execution_count": 3,
   "id": "15dbab17-9130-4842-8ad4-66532aed73bf",
   "metadata": {},
   "outputs": [
    {
     "ename": "SyntaxError",
     "evalue": "invalid syntax (1649456182.py, line 4)",
     "output_type": "error",
     "traceback": [
      "\u001b[1;36m  Input \u001b[1;32mIn [3]\u001b[1;36m\u001b[0m\n\u001b[1;33m    def__init__(self,a):\u001b[0m\n\u001b[1;37m                        ^\u001b[0m\n\u001b[1;31mSyntaxError\u001b[0m\u001b[1;31m:\u001b[0m invalid syntax\n"
     ]
    }
   ],
   "source": [
    "#Achieveing Enbcapsulation by Private\n",
    "\n",
    "class A: #Parent class\n",
    "    def__init__(self,a):\n",
    "        self.__a=a #The variable is a private variable \n",
    "    \n",
    "    def show(self):\n",
    "        #Printing a private using fnution \n",
    "        print(\"Private variable:\",self._a)\n",
    "\n",
    "class B(A): #Child class\n",
    "    def__init__(self,b):\n",
    "        super().__init__(b)    \n",
    "    def showB(self):\n",
    "        print(self.__a)\n",
    "    \n",
    "#creating an object of classB\n",
    "\n",
    "obj=B(20)\n",
    "obj.showB()\n",
    "\n",
    "            #Output=Compiler giving the error becouse veriable private"
   ]
  },
  {
   "cell_type": "code",
   "execution_count": 5,
   "id": "3631ee84-dcde-4576-a094-909b2da89a02",
   "metadata": {},
   "outputs": [
    {
     "ename": "SyntaxError",
     "evalue": "invalid syntax (1438684653.py, line 4)",
     "output_type": "error",
     "traceback": [
      "\u001b[1;36m  Input \u001b[1;32mIn [5]\u001b[1;36m\u001b[0m\n\u001b[1;33m    def__init__(self,a):\u001b[0m\n\u001b[1;37m                        ^\u001b[0m\n\u001b[1;31mSyntaxError\u001b[0m\u001b[1;31m:\u001b[0m invalid syntax\n"
     ]
    }
   ],
   "source": [
    "#Achieveing Enbcapsulation by Protected\n",
    "\n",
    "class A: #Parent class\n",
    "    def__init__(self,a):\n",
    "        self._a=a #The variable is a Protected variable \n",
    "    \n",
    "    def show(self):\n",
    "        print(\"Protected variable:\",self._a)\n",
    "\n",
    "class B(A): #Child class\n",
    "    def__init__(self,b):\n",
    "        super().__init__(b)    \n",
    "    \n",
    "    def show(self):\n",
    "        print(\"Variable Value:\"self._a)\n",
    "    \n",
    "#creating an object of classB\n",
    "\n",
    "obj=B(30)\n",
    "obj.show()\n",
    "\n",
    "#Output=Compiler giving the error becouse veriable Protected"
   ]
  }
 ],
 "metadata": {
  "kernelspec": {
   "display_name": "Python 3 (ipykernel)",
   "language": "python",
   "name": "python3"
  },
  "language_info": {
   "codemirror_mode": {
    "name": "ipython",
    "version": 3
   },
   "file_extension": ".py",
   "mimetype": "text/x-python",
   "name": "python",
   "nbconvert_exporter": "python",
   "pygments_lexer": "ipython3",
   "version": "3.9.12"
  }
 },
 "nbformat": 4,
 "nbformat_minor": 5
}
