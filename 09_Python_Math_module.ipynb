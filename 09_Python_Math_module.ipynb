{
 "cells": [
  {
   "cell_type": "code",
   "execution_count": 15,
   "id": "43bb11c0-09d2-4e27-a255-1a87dc5dfad2",
   "metadata": {},
   "outputs": [
    {
     "name": "stdout",
     "output_type": "stream",
     "text": [
      "362880\n",
      "10\n",
      "9\n",
      "3.1622776601683795\n"
     ]
    }
   ],
   "source": [
    "#Import math \n",
    "\n",
    "#From math import functionname \n",
    "            #or\n",
    "#import math\n",
    "\n",
    "#factorial()\n",
    "import math\n",
    "print(math.factorial(9))\n",
    "\n",
    "#Ceil \n",
    "import math\n",
    "print(math.ceil(9.1))\n",
    "\n",
    "#Floor()\n",
    "import math\n",
    "print(math.floor(9.8))\n",
    "\n",
    "#Sqrt\n",
    "import math \n",
    "print(math.sqrt(10))"
   ]
  },
  {
   "cell_type": "code",
   "execution_count": null,
   "id": "4eee91b4-6c6b-4158-b5cf-0ee1e0f2fdbf",
   "metadata": {},
   "outputs": [],
   "source": []
  },
  {
   "cell_type": "code",
   "execution_count": null,
   "id": "ceb08cd6-787a-4b21-8758-c6911fe431b4",
   "metadata": {},
   "outputs": [],
   "source": []
  }
 ],
 "metadata": {
  "kernelspec": {
   "display_name": "Python 3 (ipykernel)",
   "language": "python",
   "name": "python3"
  },
  "language_info": {
   "codemirror_mode": {
    "name": "ipython",
    "version": 3
   },
   "file_extension": ".py",
   "mimetype": "text/x-python",
   "name": "python",
   "nbconvert_exporter": "python",
   "pygments_lexer": "ipython3",
   "version": "3.9.12"
  }
 },
 "nbformat": 4,
 "nbformat_minor": 5
}
