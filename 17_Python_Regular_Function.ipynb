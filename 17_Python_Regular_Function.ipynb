{
 "cells": [
  {
   "cell_type": "code",
   "execution_count": 2,
   "id": "fd3344f7-6687-4ace-9d63-c67f5b1bc850",
   "metadata": {},
   "outputs": [
    {
     "name": "stdout",
     "output_type": "stream",
     "text": [
      "<re.Match object; span=(0, 3), match='abc'>\n"
     ]
    }
   ],
   "source": [
    "#Regular Expression \n",
    "\n",
    "#Match function \n",
    "#Import re Module First.\n",
    "import re\n",
    "\n",
    "pattern=r\"^abc\"\n",
    "mystring=\"abcdef\"\n",
    "\n",
    "x=re.match(pattern,mystring)\n",
    "print(x)"
   ]
  },
  {
   "cell_type": "code",
   "execution_count": 4,
   "id": "7bdd554f-788b-482f-93c9-477f8d5961bc",
   "metadata": {},
   "outputs": [
    {
     "name": "stdout",
     "output_type": "stream",
     "text": [
      "the first Whitespace: <re.Match object; span=(2, 3), match=' '>\n",
      "the first Whitespace: 2\n"
     ]
    }
   ],
   "source": [
    "#Serch function \n",
    "#Import re Module First.\n",
    "import re\n",
    "\n",
    "txt=\"We are learning python\"\n",
    "x=re.search(\"\\s\",txt)#This expression is written for dearching whitespace\n",
    "\n",
    "print(\"the first Whitespace:\",x)\n",
    "print(\"the first Whitespace:\",x.start())\n"
   ]
  },
  {
   "cell_type": "code",
   "execution_count": 8,
   "id": "13d66d05-81d5-475c-889f-25cad0b07976",
   "metadata": {},
   "outputs": [
    {
     "name": "stdout",
     "output_type": "stream",
     "text": [
      "<re.Match object; span=(4, 8), match='rain'>\n",
      "None\n"
     ]
    }
   ],
   "source": [
    "#Search Word \n",
    "\n",
    "import re \n",
    "txt=\"The rain in gujarat\"\n",
    "x=re.search(\"rain\",txt)\n",
    "print(x)\n",
    "\n",
    "y=re.search(\"Ahmedabad\",txt)\n",
    "print(y)"
   ]
  },
  {
   "cell_type": "code",
   "execution_count": 11,
   "id": "8c7a61f7-58b2-46bb-aed5-41f1cc528ca9",
   "metadata": {},
   "outputs": [
    {
     "name": "stdout",
     "output_type": "stream",
     "text": [
      "Before Repalce: Learnevern Provide free online traning\n",
      "After replace: Learnevern Provide free online traning\n"
     ]
    }
   ],
   "source": [
    "#Replace Function\n",
    "\n",
    "import re\n",
    "\n",
    "str1=\"Learnevern Provide free online traning\"\n",
    "print(\"Before Repalce:\",str1)\n",
    "\n",
    "#After replace the privie with python\n",
    "result=re.sub(r\"provide\",\"Python\",str1)\n",
    "print(\"After replace:\",result)"
   ]
  },
  {
   "cell_type": "code",
   "execution_count": 13,
   "id": "ac2c100f-1338-486c-84f8-0428c55b93fd",
   "metadata": {},
   "outputs": [
    {
     "name": "stdout",
     "output_type": "stream",
     "text": [
      "Before Repalce: Learnevern Provide Free Online Traning\n",
      "After replace: L000000000 P000000 F000 O00000 T000000\n"
     ]
    }
   ],
   "source": [
    "#Replace all the small letter to zero\n",
    "\n",
    "import re \n",
    "\n",
    "str1=\"Learnevern Provide Free Online Traning\"\n",
    "print(\"Before Repalce:\",str1)\n",
    "\n",
    "result=re.sub(r\"[a-z]\",\"0\",str1)\n",
    "print(\"After replace:\",result)"
   ]
  },
  {
   "cell_type": "code",
   "execution_count": null,
   "id": "0405f83f-7ea4-4442-9664-2e078647a3bd",
   "metadata": {},
   "outputs": [],
   "source": []
  }
 ],
 "metadata": {
  "kernelspec": {
   "display_name": "Python 3 (ipykernel)",
   "language": "python",
   "name": "python3"
  },
  "language_info": {
   "codemirror_mode": {
    "name": "ipython",
    "version": 3
   },
   "file_extension": ".py",
   "mimetype": "text/x-python",
   "name": "python",
   "nbconvert_exporter": "python",
   "pygments_lexer": "ipython3",
   "version": "3.9.12"
  }
 },
 "nbformat": 4,
 "nbformat_minor": 5
}
