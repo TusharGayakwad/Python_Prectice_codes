{
 "cells": [
  {
   "cell_type": "code",
   "execution_count": 4,
   "id": "dfbc49f1-1f21-4c00-a7f7-92472e26ffd9",
   "metadata": {},
   "outputs": [
    {
     "name": "stdout",
     "output_type": "stream",
     "text": [
      "hello\n"
     ]
    }
   ],
   "source": [
    "#Basic Function \n",
    "#using print()\n",
    "\n",
    "print(\"hello\")"
   ]
  },
  {
   "cell_type": "code",
   "execution_count": 23,
   "id": "2f9c06fa-043b-414c-aa89-fd2e8d113f8b",
   "metadata": {},
   "outputs": [
    {
     "name": "stdout",
     "output_type": "stream",
     "text": [
      "<class 'str'>\n",
      "<class 'int'>\n",
      "<class 'float'>\n"
     ]
    }
   ],
   "source": [
    "#Basic Function \n",
    "#using type()\n",
    "\n",
    "a=\"tush\"\n",
    "print(type(a))\n",
    "\n",
    "b=10\n",
    "print(type(b))\n",
    "\n",
    "c=10.4\n",
    "print(type(c))\n"
   ]
  },
  {
   "cell_type": "code",
   "execution_count": 22,
   "id": "6a41223e-8464-4538-a4bb-e786d3f4bb06",
   "metadata": {},
   "outputs": [
    {
     "name": "stdin",
     "output_type": "stream",
     "text": [
      "Enter the value of A: 45\n"
     ]
    },
    {
     "name": "stdout",
     "output_type": "stream",
     "text": [
      "A: 45\n",
      "<class 'str'>\n"
     ]
    }
   ],
   "source": [
    "#Basic Function \n",
    "#using input()\n",
    "\n",
    "a=input(\"Enter the value of A:\")\n",
    "print(\"A:\",a)\n",
    "print(type(a))\n"
   ]
  },
  {
   "cell_type": "code",
   "execution_count": 24,
   "id": "efe04587-9629-451e-beab-028006f34e64",
   "metadata": {},
   "outputs": [
    {
     "name": "stdout",
     "output_type": "stream",
     "text": [
      "\n",
      "Here is a list of the Python keywords.  Enter any keyword to get more help.\n",
      "\n",
      "False               break               for                 not\n",
      "None                class               from                or\n",
      "True                continue            global              pass\n",
      "__peg_parser__      def                 if                  raise\n",
      "and                 del                 import              return\n",
      "as                  elif                in                  try\n",
      "assert              else                is                  while\n",
      "async               except              lambda              with\n",
      "await               finally             nonlocal            yield\n",
      "\n"
     ]
    }
   ],
   "source": [
    "#keywords\n",
    "#with the help funtion we can esay to find keywords\n",
    "\n",
    "help(\"keywords\")"
   ]
  },
  {
   "cell_type": "code",
   "execution_count": 31,
   "id": "509db0ae-b72f-4cc8-ab2e-1993d8582a4b",
   "metadata": {},
   "outputs": [
    {
     "name": "stdout",
     "output_type": "stream",
     "text": [
      "<class 'int'>\n",
      "<class 'float'>\n",
      "<class 'complex'>\n"
     ]
    }
   ],
   "source": [
    "#Data types\n",
    "#Numeric Data type\n",
    "\n",
    "#int datatype\n",
    "a=10\n",
    "print(type(a))\n",
    "\n",
    "#Float datatype\n",
    "b=10.5\n",
    "print(type(b))\n",
    "\n",
    "#Complex datatype\n",
    "c=11+2j\n",
    "print(type(c))\n"
   ]
  },
  {
   "cell_type": "code",
   "execution_count": 32,
   "id": "038944ab-c6bb-457b-be1e-d116863529cf",
   "metadata": {},
   "outputs": [
    {
     "name": "stdout",
     "output_type": "stream",
     "text": [
      "<class 'bool'>\n"
     ]
    }
   ],
   "source": [
    "#Data types\n",
    "#Boolen datatype\n",
    "a=True\n",
    "print(type(a))"
   ]
  },
  {
   "cell_type": "code",
   "execution_count": 33,
   "id": "e9f72a3a-11fb-4f83-abd1-b86e55d88ff2",
   "metadata": {},
   "outputs": [
    {
     "name": "stdout",
     "output_type": "stream",
     "text": [
      "<class 'set'>\n"
     ]
    }
   ],
   "source": [
    "#Data types\n",
    "#Set datatype\n",
    "\n",
    "a={\"a\",\"b\",\"c\"}\n",
    "print(type(a))"
   ]
  },
  {
   "cell_type": "code",
   "execution_count": 7,
   "id": "33f785bc-6a74-45ef-b36a-491dcae3428f",
   "metadata": {},
   "outputs": [
    {
     "name": "stdout",
     "output_type": "stream",
     "text": [
      "<class 'dict'>\n"
     ]
    }
   ],
   "source": [
    "#Data types\n",
    "#Dictionary datatype\n",
    "\n",
    "c={1:\"10\",2:\"11\",3:\"12\"}\n",
    "print(type(c))\n"
   ]
  },
  {
   "cell_type": "code",
   "execution_count": 10,
   "id": "d008f9f9-1efe-492c-ac51-27f17a769b3e",
   "metadata": {},
   "outputs": [
    {
     "name": "stdout",
     "output_type": "stream",
     "text": [
      "<class 'list'>\n",
      "<class 'str'>\n",
      "<class 'tuple'>\n"
     ]
    }
   ],
   "source": [
    "##Data types\n",
    "#Sequence Data type\n",
    "\n",
    "#List datatype\n",
    "a=[1,2,3,4]\n",
    "print(type(a))\n",
    "\n",
    "#string datatype\n",
    "b=\"Hello\"\n",
    "print(type(b))\n",
    "\n",
    "#Tuple datatype\n",
    "c=(1,2,4,5)\n",
    "print(type(c))\n"
   ]
  },
  {
   "cell_type": "code",
   "execution_count": 17,
   "id": "f877b9ad-3ee0-400e-99d8-e3f2289ae520",
   "metadata": {},
   "outputs": [
    {
     "name": "stdout",
     "output_type": "stream",
     "text": [
      "Python \n",
      "Programming \n",
      "Language \n",
      "Python Programming Language \n"
     ]
    }
   ],
   "source": [
    "#Variables in Python \n",
    "#Python allows multiple variable at a time \n",
    "\n",
    "a,b,c = \"Python \",\"Programming \",\"Language \"\n",
    "print (a)\n",
    "print (b)\n",
    "print (c)\n",
    "\n",
    "#Python allows you to concat the variables using \"+\" sign.\n",
    "\n",
    "print (a +b +c)"
   ]
  },
  {
   "cell_type": "code",
   "execution_count": 18,
   "id": "e4dd5df8-5186-41cb-8af6-d5ec009e301e",
   "metadata": {},
   "outputs": [
    {
     "name": "stdout",
     "output_type": "stream",
     "text": [
      "10\n"
     ]
    }
   ],
   "source": [
    "#Creating a variable\n",
    "#Integer value to the variable \n",
    "\n",
    "a=10\n",
    "print(a)"
   ]
  },
  {
   "cell_type": "code",
   "execution_count": 19,
   "id": "49f11517-a6d3-4888-8264-67ecb3a2626f",
   "metadata": {},
   "outputs": [
    {
     "name": "stdout",
     "output_type": "stream",
     "text": [
      "[1, 2, 3, 4, 5]\n"
     ]
    }
   ],
   "source": [
    "#List store in variable \n",
    "\n",
    "L1= [1,2,3,4,5]\n",
    "print(L1)"
   ]
  },
  {
   "cell_type": "code",
   "execution_count": 23,
   "id": "a9508ada-198e-45c9-a65c-171f3f5922d4",
   "metadata": {},
   "outputs": [
    {
     "name": "stdout",
     "output_type": "stream",
     "text": [
      "Interger Tpye casting\n",
      "1\n",
      "2\n",
      "3\n",
      "Float Tpye casting\n",
      "1.0\n",
      "2.8\n",
      "3.0\n",
      "4.2\n",
      "String Tpye casting\n",
      "s1\n",
      "2\n",
      "3.0\n"
     ]
    }
   ],
   "source": [
    "#Type casting\n",
    "#Interger Type casting\n",
    "print(\"Interger Tpye casting\")\n",
    "a = int(1)   # x will be 1\n",
    "b = int(2.8) # y will be 2\n",
    "c = int(\"3\") # z will be 3\n",
    "print(a)\n",
    "print(b)\n",
    "print(c)\n",
    "\n",
    "#Float Type casting\n",
    "print(\"Float Tpye casting\")\n",
    "d = float(1)     # x will be 1.0\n",
    "e = float(2.8)   # y will be 2.8\n",
    "f = float(\"3\")   # z will be 3.0\n",
    "g = float(\"4.2\") # w will be 4.2\n",
    "print(d)\n",
    "print(e)\n",
    "print(f)\n",
    "print(g)\n",
    "\n",
    "#String Type casting\n",
    "print(\"String Tpye casting\")\n",
    "h = str(\"s1\") # x will be 's1'\n",
    "i = str(2)    # y will be '2'\n",
    "j = str(3.0)  # z will be '3.0'\n",
    "print(h)\n",
    "print(i)\n",
    "print(j)\n"
   ]
  },
  {
   "cell_type": "code",
   "execution_count": 27,
   "id": "68e15236-1f05-4315-8926-85ba21f53920",
   "metadata": {},
   "outputs": [
    {
     "name": "stdout",
     "output_type": "stream",
     "text": [
      "a+b:  11\n",
      "a-b: -1\n",
      "a*b:  30\n",
      "a/b:  0.8333333333333334\n",
      "a%b:  5\n",
      "a++b:  11\n",
      "a--b:  11\n"
     ]
    }
   ],
   "source": [
    "#Operaters\n",
    "#Arithmetic operaters\n",
    "a=5\n",
    "b=6\n",
    "\n",
    "#Addition operater\n",
    "print(\"a+b: \",a+b)\n",
    "#Subtraction operater\n",
    "print(\"a-b:\",a-b)\n",
    "#Multiplication operater\n",
    "print(\"a*b: \",a*b)\n",
    "#Division operater\n",
    "print(\"a/b: \",a/b)\n",
    "#Module operater\n",
    "print(\"a%b: \",a%b)\n",
    "#Incremant operater\n",
    "print(\"a++b: \",a++b)\n",
    "#Decrement operater\n",
    "print(\"a--b: \",a--b)"
   ]
  },
  {
   "cell_type": "code",
   "execution_count": 1,
   "id": "e3ae1e4d-a41d-4591-8c0e-0e4b028294fd",
   "metadata": {},
   "outputs": [
    {
     "name": "stdout",
     "output_type": "stream",
     "text": [
      "a+b:  11\n",
      "a-b: -1\n",
      "a*b:  30\n",
      "a/b:  0.8333333333333334\n",
      "a%b:  5\n",
      "a++b:  11\n",
      "a--b:  11\n"
     ]
    }
   ],
   "source": [
    "#Operaters\n",
    "#Assignment operaters\n",
    "a=5\n",
    "b=6\n",
    "\n",
    "print(\"a+b: \",a+b)\n",
    "#Subtraction operater\n",
    "print(\"a-b:\",a-b)\n",
    "#Multiplication operater\n",
    "print(\"a*b: \",a*b)\n",
    "#Division operater\n",
    "print(\"a/b: \",a/b)\n",
    "#Module operater\n",
    "print(\"a%b: \",a%b)\n",
    "#Incremant operater\n",
    "print(\"a++b: \",a++b)\n",
    "#Decrement operater\n",
    "print(\"a--b: \",a--b)"
   ]
  },
  {
   "cell_type": "code",
   "execution_count": 2,
   "id": "bee282b9-848d-46d1-acd7-7ca17d8582d4",
   "metadata": {},
   "outputs": [
    {
     "name": "stdout",
     "output_type": "stream",
     "text": [
      "Hello\n"
     ]
    },
    {
     "name": "stdin",
     "output_type": "stream",
     "text": [
      "Enter the value:A 3\n"
     ]
    },
    {
     "name": "stdout",
     "output_type": "stream",
     "text": [
      "A:  3\n",
      "a+b= 8\n",
      "a/b= 8\n",
      "<class 'str'>\n"
     ]
    }
   ],
   "source": [
    "#Model -1 Assigment\n",
    "#1.Wite a program to print a string \"Hello\".\n",
    "\n",
    "print(\"Hello\")\n",
    "\n",
    "\n"
   ]
  },
  {
   "cell_type": "code",
   "execution_count": 4,
   "id": "5e0a3963-8d2c-4661-b390-3b5f5759264c",
   "metadata": {},
   "outputs": [
    {
     "name": "stdin",
     "output_type": "stream",
     "text": [
      "Enter the value:A 5\n"
     ]
    },
    {
     "name": "stdout",
     "output_type": "stream",
     "text": [
      "A:  5\n"
     ]
    }
   ],
   "source": [
    "#Model -1 Assigment\n",
    "#2.Write a program to store a one value in variable and print that variable.\n",
    "\n",
    "a=input(\"Enter the value:A\")\n",
    "print(\"A: \",a)\n"
   ]
  },
  {
   "cell_type": "code",
   "execution_count": 5,
   "id": "ca218819-563e-4fec-b531-d8d4bd50a091",
   "metadata": {},
   "outputs": [
    {
     "name": "stdout",
     "output_type": "stream",
     "text": [
      "a+b= 8\n",
      "a/b= 8\n"
     ]
    }
   ],
   "source": [
    "#Model -1 Assigment\n",
    "#3.write a program to do same , Division , Multiple of to values.\n",
    "\n",
    "a=3\n",
    "b=5\n",
    "\n",
    "#Same Two values\n",
    "print(\"a+b=\",a+b)\n",
    "\n",
    "#Division two values\n",
    "print(\"a/b=\",a+b)\n",
    "\n"
   ]
  },
  {
   "cell_type": "code",
   "execution_count": null,
   "id": "0871adca-86c4-4921-ad3e-585a95dea6c6",
   "metadata": {},
   "outputs": [],
   "source": []
  },
  {
   "cell_type": "code",
   "execution_count": 6,
   "id": "f9a3cb28-6066-4b85-a963-57c18588be1b",
   "metadata": {},
   "outputs": [
    {
     "name": "stdout",
     "output_type": "stream",
     "text": [
      "<class 'str'>\n"
     ]
    }
   ],
   "source": [
    "#Model -1 Assigment\n",
    "#4.Write a program to find a data type of variable.\n",
    "\n",
    "c=\"Hello\"\n",
    "print(type(c))"
   ]
  },
  {
   "cell_type": "code",
   "execution_count": 7,
   "id": "0546f676-50d8-4444-8df4-c35c03a6ae2b",
   "metadata": {},
   "outputs": [
    {
     "name": "stdin",
     "output_type": "stream",
     "text": [
      "Enter the first value: 4\n",
      "Enter the Secend value: 5\n"
     ]
    },
    {
     "name": "stdout",
     "output_type": "stream",
     "text": [
      "a and b both are not same \n"
     ]
    }
   ],
   "source": [
    "#Model -1 Assigment\n",
    "#5. Write a program to take two integer valuesfrom the user and check both the values are same.\n",
    "\n",
    "a=int(input(\"Enter the first value:\"))\n",
    "b=int(input(\"Enter the Secend value:\"))\n",
    "if a == b:\n",
    "    print(\"a and b both are same \")\n",
    "else :\n",
    "    print(\"a and b both are not same \")"
   ]
  },
  {
   "cell_type": "code",
   "execution_count": null,
   "id": "219421f1-7934-4116-a2aa-ba9a41417334",
   "metadata": {},
   "outputs": [],
   "source": []
  }
 ],
 "metadata": {
  "kernelspec": {
   "display_name": "Python 3 (ipykernel)",
   "language": "python",
   "name": "python3"
  },
  "language_info": {
   "codemirror_mode": {
    "name": "ipython",
    "version": 3
   },
   "file_extension": ".py",
   "mimetype": "text/x-python",
   "name": "python",
   "nbconvert_exporter": "python",
   "pygments_lexer": "ipython3",
   "version": "3.9.12"
  }
 },
 "nbformat": 4,
 "nbformat_minor": 5
}
